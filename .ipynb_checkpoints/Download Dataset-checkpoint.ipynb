{
 "cells": [
  {
   "cell_type": "code",
   "execution_count": 1,
   "id": "b1c2b381",
   "metadata": {},
   "outputs": [],
   "source": [
    "import kaggle"
   ]
  },
  {
   "cell_type": "code",
   "execution_count": 2,
   "id": "9e4cb587",
   "metadata": {},
   "outputs": [
    {
     "name": "stdout",
     "output_type": "stream",
     "text": [
      "Downloading msbd5001-spring-2022.zip to C:\\Users\\talha\\OneDrive - HKUST Connect\\Semester Spring 2022\\5001\\Individual Project\n",
      "\n"
     ]
    },
    {
     "name": "stderr",
     "output_type": "stream",
     "text": [
      "\n",
      "  0%|          | 0.00/5.32k [00:00<?, ?B/s]\n",
      "100%|##########| 5.32k/5.32k [00:00<00:00, 1.09MB/s]\n"
     ]
    }
   ],
   "source": [
    "!kaggle competitions download -c msbd5001-spring-2022"
   ]
  },
  {
   "cell_type": "code",
   "execution_count": 3,
   "id": "96f3bbab",
   "metadata": {},
   "outputs": [
    {
     "name": "stderr",
     "output_type": "stream",
     "text": [
      "'cp' is not recognized as an internal or external command,\n",
      "operable program or batch file.\n"
     ]
    }
   ],
   "source": [
    "!cp msbd5001-spring-2022.zip Data/"
   ]
  },
  {
   "cell_type": "code",
   "execution_count": 4,
   "id": "8b8077d8",
   "metadata": {},
   "outputs": [
    {
     "name": "stderr",
     "output_type": "stream",
     "text": [
      "'mv' is not recognized as an internal or external command,\n",
      "operable program or batch file.\n"
     ]
    }
   ],
   "source": [
    "!mv msbd5001-spring-2022.zip Data/"
   ]
  },
  {
   "cell_type": "code",
   "execution_count": 5,
   "id": "4e6d56b8",
   "metadata": {},
   "outputs": [
    {
     "name": "stdout",
     "output_type": "stream",
     "text": [
      "        1 file(s) moved.\n"
     ]
    }
   ],
   "source": [
    "!move msbd5001-spring-2022.zip Data/"
   ]
  },
  {
   "cell_type": "code",
   "execution_count": 7,
   "id": "a177620d",
   "metadata": {},
   "outputs": [
    {
     "name": "stderr",
     "output_type": "stream",
     "text": [
      "'unzip' is not recognized as an internal or external command,\n",
      "operable program or batch file.\n"
     ]
    }
   ],
   "source": [
    "!unzip Data/msbd5001-spring-2022.zip"
   ]
  },
  {
   "cell_type": "code",
   "execution_count": 8,
   "id": "d14302cd",
   "metadata": {},
   "outputs": [],
   "source": [
    "!tar -xf Data/msbd5001-spring-2022.zip"
   ]
  },
  {
   "cell_type": "code",
   "execution_count": 10,
   "id": "7e86462d",
   "metadata": {},
   "outputs": [
    {
     "name": "stdout",
     "output_type": "stream",
     "text": [
      "        1 file(s) moved.\n"
     ]
    }
   ],
   "source": [
    "!move test.csv Data/"
   ]
  },
  {
   "cell_type": "code",
   "execution_count": 11,
   "id": "eebb5764",
   "metadata": {},
   "outputs": [
    {
     "name": "stdout",
     "output_type": "stream",
     "text": [
      "        1 file(s) moved.\n"
     ]
    }
   ],
   "source": [
    "!move train.csv Data/"
   ]
  },
  {
   "cell_type": "code",
   "execution_count": 12,
   "id": "e51ac2f6",
   "metadata": {},
   "outputs": [
    {
     "name": "stdout",
     "output_type": "stream",
     "text": [
      "        1 file(s) moved.\n"
     ]
    }
   ],
   "source": [
    "!move sample_submission.csv Data/"
   ]
  },
  {
   "cell_type": "code",
   "execution_count": 1,
   "id": "b9e46567",
   "metadata": {},
   "outputs": [
    {
     "name": "stdout",
     "output_type": "stream",
     "text": [
      "tar(bsdtar): manipulate archive files\n",
      "First option must be a mode specifier:\n",
      "  -c Create  -r Add/Replace  -t List  -u Update  -x Extract\n",
      "Common Options:\n",
      "  -b #  Use # 512-byte records per I/O block\n",
      "  -f <filename>  Location of archive (default \\\\.\\tape0)\n",
      "  -v    Verbose\n",
      "  -w    Interactive\n",
      "Create: tar -c [options] [<file> | <dir> | @<archive> | -C <dir> ]\n",
      "  <file>, <dir>  add these items to archive\n",
      "  -z, -j, -J, --lzma  Compress archive with gzip/bzip2/xz/lzma\n",
      "  --format {ustar|pax|cpio|shar}  Select archive format\n",
      "  --exclude <pattern>  Skip files that match pattern\n",
      "  -C <dir>  Change to <dir> before processing remaining files\n",
      "  @<archive>  Add entries from <archive> to output\n",
      "List: tar -t [options] [<patterns>]\n",
      "  <patterns>  If specified, list only entries that match\n",
      "Extract: tar -x [options] [<patterns>]\n",
      "  <patterns>  If specified, extract only entries that match\n",
      "  -k    Keep (don't overwrite) existing files\n",
      "  -m    Don't restore modification times\n",
      "  -O    Write entries to stdout, don't restore to disk\n",
      "  -p    Restore permissions (including ACLs, owner, file flags)\n",
      "bsdtar 3.5.2 - libarchive 3.5.2 zlib/1.2.5.f-ipp bz2lib/1.0.6 \n"
     ]
    }
   ],
   "source": [
    "!tar -h"
   ]
  },
  {
   "cell_type": "code",
   "execution_count": 2,
   "id": "2a961c19",
   "metadata": {},
   "outputs": [],
   "source": [
    "!cd Data/"
   ]
  },
  {
   "cell_type": "code",
   "execution_count": null,
   "id": "380d7e07",
   "metadata": {},
   "outputs": [],
   "source": []
  }
 ],
 "metadata": {
  "kernelspec": {
   "display_name": "Python 3",
   "language": "python",
   "name": "python3"
  },
  "language_info": {
   "codemirror_mode": {
    "name": "ipython",
    "version": 3
   },
   "file_extension": ".py",
   "mimetype": "text/x-python",
   "name": "python",
   "nbconvert_exporter": "python",
   "pygments_lexer": "ipython3",
   "version": "3.8.8"
  }
 },
 "nbformat": 4,
 "nbformat_minor": 5
}
